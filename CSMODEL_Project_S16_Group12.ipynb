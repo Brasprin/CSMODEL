{
  "cells": [
    {
      "cell_type": "markdown",
      "id": "0976a88f",
      "metadata": {
        "id": "0976a88f"
      },
      "source": [
        "# CSMODEL S16 MCO1\n",
        "\n",
        "### Group 12 Members:\n",
        "- ALBARRACIN, CLARISSA MAMUYAC\n",
        "- CAPOTE, MARY GRACE SAN PEDRO\n",
        "- RESURRECCION, ALJIRAH BRENDL YUTAN\n",
        "- TAMSE, ANDREI GONZALES"
      ]
    },
    {
      "cell_type": "markdown",
      "id": "ac44f1cc-1387-4569-b0b6-45cc7ab4a7c8",
      "metadata": {
        "id": "ac44f1cc-1387-4569-b0b6-45cc7ab4a7c8"
      },
      "source": [
        "The dataset used is [Salaries of Different Data Science Fields in the Data Science Domain](https://www.kaggle.com/datasets/arnabchaki/data-science-salaries-2023/data) and obtained from Kaggle that covers data science salaries from 2020 to 2023. It provides data such as work experience, employment type, job titles, and salaries. Our goal is to explore this dataset and gain insights using data modeling techniques.\n",
        "\n",
        "\n",
        "Collection Process: Data has been sourced from aijobs.net in April 2023 in https://ai-jobs.net/salaries/  Checking the website, it is internally aggregated from the offered salaries in the job listing along with user reported salaries.\n",
        "The most recent update is within the ai-jobs.net website, that includes 2024.\n",
        "\n",
        "Possible Implications of Data Collection Method: The dataset focuses primarily on the United States' salaries in the Data Science domain. This factor may lead to inaccurate conclusions as not all countries are distributed properly. It is unclear whether or not the salaries shown are adjusted for inflation; potentially giving inaccurate salary amounts. Lastly, because the data collection includes self-reported salaries, there is a possibility of false reports, which could render some data invalid."
      ]
    },
    {
      "cell_type": "markdown",
      "id": "2c183470-d133-4572-b1e1-03e61f3bb109",
      "metadata": {
        "id": "2c183470-d133-4572-b1e1-03e61f3bb109"
      },
      "source": [
        "## Imported Libraries"
      ]
    },
    {
      "cell_type": "code",
      "execution_count": 2,
      "id": "80de11e2-18a2-40ab-868a-dbd04bb6bb1d",
      "metadata": {
        "id": "80de11e2-18a2-40ab-868a-dbd04bb6bb1d"
      },
      "outputs": [],
      "source": [
        "import numpy as np\n",
        "import pandas as pd\n",
        "import matplotlib.pyplot as plt\n",
        "import matplotlib.patches as mpatches\n",
        "import seaborn as sns\n",
        "from collections import Counter\n",
        "from tabulate import tabulate\n",
        "from scipy.stats import skew"
      ]
    },
    {
      "cell_type": "markdown",
      "id": "cfa26deb-5b82-42d9-9531-06a3863bd5ff",
      "metadata": {
        "id": "cfa26deb-5b82-42d9-9531-06a3863bd5ff"
      },
      "source": [
        "## Read Dataset"
      ]
    },
    {
      "cell_type": "code",
      "execution_count": 3,
      "id": "8e434890-3297-40ef-a9a6-f635b4ac4b98",
      "metadata": {
        "colab": {
          "base_uri": "https://localhost:8080/",
          "height": 330
        },
        "id": "8e434890-3297-40ef-a9a6-f635b4ac4b98",
        "outputId": "2cd641fa-dad6-4a5e-c648-bf9983fe5267"
      },
      "outputs": [
        {
          "data": {
            "application/vnd.google.colaboratory.intrinsic+json": {
              "summary": "{\n  \"name\": \"ds_salary_df\",\n  \"rows\": 3755,\n  \"fields\": [\n    {\n      \"column\": \"work_year\",\n      \"properties\": {\n        \"dtype\": \"number\",\n        \"std\": 0,\n        \"min\": 2020,\n        \"max\": 2023,\n        \"num_unique_values\": 4,\n        \"samples\": [\n          2022,\n          2021,\n          2023\n        ],\n        \"semantic_type\": \"\",\n        \"description\": \"\"\n      }\n    },\n    {\n      \"column\": \"experience_level\",\n      \"properties\": {\n        \"dtype\": \"category\",\n        \"num_unique_values\": 4,\n        \"samples\": [\n          \"MI\",\n          \"EX\",\n          \"SE\"\n        ],\n        \"semantic_type\": \"\",\n        \"description\": \"\"\n      }\n    },\n    {\n      \"column\": \"employment_type\",\n      \"properties\": {\n        \"dtype\": \"category\",\n        \"num_unique_values\": 4,\n        \"samples\": [\n          \"CT\",\n          \"PT\",\n          \"FT\"\n        ],\n        \"semantic_type\": \"\",\n        \"description\": \"\"\n      }\n    },\n    {\n      \"column\": \"job_title\",\n      \"properties\": {\n        \"dtype\": \"category\",\n        \"num_unique_values\": 93,\n        \"samples\": [\n          \"Cloud Database Engineer\",\n          \"Staff Data Analyst\",\n          \"Insight Analyst\"\n        ],\n        \"semantic_type\": \"\",\n        \"description\": \"\"\n      }\n    },\n    {\n      \"column\": \"salary\",\n      \"properties\": {\n        \"dtype\": \"number\",\n        \"std\": 671676,\n        \"min\": 6000,\n        \"max\": 30400000,\n        \"num_unique_values\": 815,\n        \"samples\": [\n          84570,\n          138000,\n          370000\n        ],\n        \"semantic_type\": \"\",\n        \"description\": \"\"\n      }\n    },\n    {\n      \"column\": \"salary_currency\",\n      \"properties\": {\n        \"dtype\": \"category\",\n        \"num_unique_values\": 20,\n        \"samples\": [\n          \"EUR\",\n          \"MXN\",\n          \"DKK\"\n        ],\n        \"semantic_type\": \"\",\n        \"description\": \"\"\n      }\n    },\n    {\n      \"column\": \"salary_in_usd\",\n      \"properties\": {\n        \"dtype\": \"number\",\n        \"std\": 63055,\n        \"min\": 5132,\n        \"max\": 450000,\n        \"num_unique_values\": 1035,\n        \"samples\": [\n          205600,\n          375000,\n          140700\n        ],\n        \"semantic_type\": \"\",\n        \"description\": \"\"\n      }\n    },\n    {\n      \"column\": \"employee_residence\",\n      \"properties\": {\n        \"dtype\": \"category\",\n        \"num_unique_values\": 78,\n        \"samples\": [\n          \"AR\",\n          \"ES\",\n          \"AM\"\n        ],\n        \"semantic_type\": \"\",\n        \"description\": \"\"\n      }\n    },\n    {\n      \"column\": \"remote_ratio\",\n      \"properties\": {\n        \"dtype\": \"number\",\n        \"std\": 48,\n        \"min\": 0,\n        \"max\": 100,\n        \"num_unique_values\": 3,\n        \"samples\": [\n          100,\n          0,\n          50\n        ],\n        \"semantic_type\": \"\",\n        \"description\": \"\"\n      }\n    },\n    {\n      \"column\": \"company_location\",\n      \"properties\": {\n        \"dtype\": \"category\",\n        \"num_unique_values\": 72,\n        \"samples\": [\n          \"GB\",\n          \"MY\",\n          \"SG\"\n        ],\n        \"semantic_type\": \"\",\n        \"description\": \"\"\n      }\n    },\n    {\n      \"column\": \"company_size\",\n      \"properties\": {\n        \"dtype\": \"category\",\n        \"num_unique_values\": 3,\n        \"samples\": [\n          \"L\",\n          \"S\",\n          \"M\"\n        ],\n        \"semantic_type\": \"\",\n        \"description\": \"\"\n      }\n    }\n  ]\n}",
              "type": "dataframe",
              "variable_name": "ds_salary_df"
            },
            "text/html": [
              "\n",
              "  <div id=\"df-63864f13-3eb8-458f-b153-8b41b18f01da\" class=\"colab-df-container\">\n",
              "    <div>\n",
              "<style scoped>\n",
              "    .dataframe tbody tr th:only-of-type {\n",
              "        vertical-align: middle;\n",
              "    }\n",
              "\n",
              "    .dataframe tbody tr th {\n",
              "        vertical-align: top;\n",
              "    }\n",
              "\n",
              "    .dataframe thead th {\n",
              "        text-align: right;\n",
              "    }\n",
              "</style>\n",
              "<table border=\"1\" class=\"dataframe\">\n",
              "  <thead>\n",
              "    <tr style=\"text-align: right;\">\n",
              "      <th></th>\n",
              "      <th>work_year</th>\n",
              "      <th>experience_level</th>\n",
              "      <th>employment_type</th>\n",
              "      <th>job_title</th>\n",
              "      <th>salary</th>\n",
              "      <th>salary_currency</th>\n",
              "      <th>salary_in_usd</th>\n",
              "      <th>employee_residence</th>\n",
              "      <th>remote_ratio</th>\n",
              "      <th>company_location</th>\n",
              "      <th>company_size</th>\n",
              "    </tr>\n",
              "  </thead>\n",
              "  <tbody>\n",
              "    <tr>\n",
              "      <th>0</th>\n",
              "      <td>2023</td>\n",
              "      <td>SE</td>\n",
              "      <td>FT</td>\n",
              "      <td>Principal Data Scientist</td>\n",
              "      <td>80000</td>\n",
              "      <td>EUR</td>\n",
              "      <td>85847</td>\n",
              "      <td>ES</td>\n",
              "      <td>100</td>\n",
              "      <td>ES</td>\n",
              "      <td>L</td>\n",
              "    </tr>\n",
              "    <tr>\n",
              "      <th>1</th>\n",
              "      <td>2023</td>\n",
              "      <td>MI</td>\n",
              "      <td>CT</td>\n",
              "      <td>ML Engineer</td>\n",
              "      <td>30000</td>\n",
              "      <td>USD</td>\n",
              "      <td>30000</td>\n",
              "      <td>US</td>\n",
              "      <td>100</td>\n",
              "      <td>US</td>\n",
              "      <td>S</td>\n",
              "    </tr>\n",
              "    <tr>\n",
              "      <th>2</th>\n",
              "      <td>2023</td>\n",
              "      <td>MI</td>\n",
              "      <td>CT</td>\n",
              "      <td>ML Engineer</td>\n",
              "      <td>25500</td>\n",
              "      <td>USD</td>\n",
              "      <td>25500</td>\n",
              "      <td>US</td>\n",
              "      <td>100</td>\n",
              "      <td>US</td>\n",
              "      <td>S</td>\n",
              "    </tr>\n",
              "    <tr>\n",
              "      <th>3</th>\n",
              "      <td>2023</td>\n",
              "      <td>SE</td>\n",
              "      <td>FT</td>\n",
              "      <td>Data Scientist</td>\n",
              "      <td>175000</td>\n",
              "      <td>USD</td>\n",
              "      <td>175000</td>\n",
              "      <td>CA</td>\n",
              "      <td>100</td>\n",
              "      <td>CA</td>\n",
              "      <td>M</td>\n",
              "    </tr>\n",
              "    <tr>\n",
              "      <th>4</th>\n",
              "      <td>2023</td>\n",
              "      <td>SE</td>\n",
              "      <td>FT</td>\n",
              "      <td>Data Scientist</td>\n",
              "      <td>120000</td>\n",
              "      <td>USD</td>\n",
              "      <td>120000</td>\n",
              "      <td>CA</td>\n",
              "      <td>100</td>\n",
              "      <td>CA</td>\n",
              "      <td>M</td>\n",
              "    </tr>\n",
              "  </tbody>\n",
              "</table>\n",
              "</div>\n",
              "    <div class=\"colab-df-buttons\">\n",
              "\n",
              "  <div class=\"colab-df-container\">\n",
              "    <button class=\"colab-df-convert\" onclick=\"convertToInteractive('df-63864f13-3eb8-458f-b153-8b41b18f01da')\"\n",
              "            title=\"Convert this dataframe to an interactive table.\"\n",
              "            style=\"display:none;\">\n",
              "\n",
              "  <svg xmlns=\"http://www.w3.org/2000/svg\" height=\"24px\" viewBox=\"0 -960 960 960\">\n",
              "    <path d=\"M120-120v-720h720v720H120Zm60-500h600v-160H180v160Zm220 220h160v-160H400v160Zm0 220h160v-160H400v160ZM180-400h160v-160H180v160Zm440 0h160v-160H620v160ZM180-180h160v-160H180v160Zm440 0h160v-160H620v160Z\"/>\n",
              "  </svg>\n",
              "    </button>\n",
              "\n",
              "  <style>\n",
              "    .colab-df-container {\n",
              "      display:flex;\n",
              "      gap: 12px;\n",
              "    }\n",
              "\n",
              "    .colab-df-convert {\n",
              "      background-color: #E8F0FE;\n",
              "      border: none;\n",
              "      border-radius: 50%;\n",
              "      cursor: pointer;\n",
              "      display: none;\n",
              "      fill: #1967D2;\n",
              "      height: 32px;\n",
              "      padding: 0 0 0 0;\n",
              "      width: 32px;\n",
              "    }\n",
              "\n",
              "    .colab-df-convert:hover {\n",
              "      background-color: #E2EBFA;\n",
              "      box-shadow: 0px 1px 2px rgba(60, 64, 67, 0.3), 0px 1px 3px 1px rgba(60, 64, 67, 0.15);\n",
              "      fill: #174EA6;\n",
              "    }\n",
              "\n",
              "    .colab-df-buttons div {\n",
              "      margin-bottom: 4px;\n",
              "    }\n",
              "\n",
              "    [theme=dark] .colab-df-convert {\n",
              "      background-color: #3B4455;\n",
              "      fill: #D2E3FC;\n",
              "    }\n",
              "\n",
              "    [theme=dark] .colab-df-convert:hover {\n",
              "      background-color: #434B5C;\n",
              "      box-shadow: 0px 1px 3px 1px rgba(0, 0, 0, 0.15);\n",
              "      filter: drop-shadow(0px 1px 2px rgba(0, 0, 0, 0.3));\n",
              "      fill: #FFFFFF;\n",
              "    }\n",
              "  </style>\n",
              "\n",
              "    <script>\n",
              "      const buttonEl =\n",
              "        document.querySelector('#df-63864f13-3eb8-458f-b153-8b41b18f01da button.colab-df-convert');\n",
              "      buttonEl.style.display =\n",
              "        google.colab.kernel.accessAllowed ? 'block' : 'none';\n",
              "\n",
              "      async function convertToInteractive(key) {\n",
              "        const element = document.querySelector('#df-63864f13-3eb8-458f-b153-8b41b18f01da');\n",
              "        const dataTable =\n",
              "          await google.colab.kernel.invokeFunction('convertToInteractive',\n",
              "                                                    [key], {});\n",
              "        if (!dataTable) return;\n",
              "\n",
              "        const docLinkHtml = 'Like what you see? Visit the ' +\n",
              "          '<a target=\"_blank\" href=https://colab.research.google.com/notebooks/data_table.ipynb>data table notebook</a>'\n",
              "          + ' to learn more about interactive tables.';\n",
              "        element.innerHTML = '';\n",
              "        dataTable['output_type'] = 'display_data';\n",
              "        await google.colab.output.renderOutput(dataTable, element);\n",
              "        const docLink = document.createElement('div');\n",
              "        docLink.innerHTML = docLinkHtml;\n",
              "        element.appendChild(docLink);\n",
              "      }\n",
              "    </script>\n",
              "  </div>\n",
              "\n",
              "\n",
              "<div id=\"df-c0a6bfc7-075d-4461-9e86-d93cb4e3438f\">\n",
              "  <button class=\"colab-df-quickchart\" onclick=\"quickchart('df-c0a6bfc7-075d-4461-9e86-d93cb4e3438f')\"\n",
              "            title=\"Suggest charts\"\n",
              "            style=\"display:none;\">\n",
              "\n",
              "<svg xmlns=\"http://www.w3.org/2000/svg\" height=\"24px\"viewBox=\"0 0 24 24\"\n",
              "     width=\"24px\">\n",
              "    <g>\n",
              "        <path d=\"M19 3H5c-1.1 0-2 .9-2 2v14c0 1.1.9 2 2 2h14c1.1 0 2-.9 2-2V5c0-1.1-.9-2-2-2zM9 17H7v-7h2v7zm4 0h-2V7h2v10zm4 0h-2v-4h2v4z\"/>\n",
              "    </g>\n",
              "</svg>\n",
              "  </button>\n",
              "\n",
              "<style>\n",
              "  .colab-df-quickchart {\n",
              "      --bg-color: #E8F0FE;\n",
              "      --fill-color: #1967D2;\n",
              "      --hover-bg-color: #E2EBFA;\n",
              "      --hover-fill-color: #174EA6;\n",
              "      --disabled-fill-color: #AAA;\n",
              "      --disabled-bg-color: #DDD;\n",
              "  }\n",
              "\n",
              "  [theme=dark] .colab-df-quickchart {\n",
              "      --bg-color: #3B4455;\n",
              "      --fill-color: #D2E3FC;\n",
              "      --hover-bg-color: #434B5C;\n",
              "      --hover-fill-color: #FFFFFF;\n",
              "      --disabled-bg-color: #3B4455;\n",
              "      --disabled-fill-color: #666;\n",
              "  }\n",
              "\n",
              "  .colab-df-quickchart {\n",
              "    background-color: var(--bg-color);\n",
              "    border: none;\n",
              "    border-radius: 50%;\n",
              "    cursor: pointer;\n",
              "    display: none;\n",
              "    fill: var(--fill-color);\n",
              "    height: 32px;\n",
              "    padding: 0;\n",
              "    width: 32px;\n",
              "  }\n",
              "\n",
              "  .colab-df-quickchart:hover {\n",
              "    background-color: var(--hover-bg-color);\n",
              "    box-shadow: 0 1px 2px rgba(60, 64, 67, 0.3), 0 1px 3px 1px rgba(60, 64, 67, 0.15);\n",
              "    fill: var(--button-hover-fill-color);\n",
              "  }\n",
              "\n",
              "  .colab-df-quickchart-complete:disabled,\n",
              "  .colab-df-quickchart-complete:disabled:hover {\n",
              "    background-color: var(--disabled-bg-color);\n",
              "    fill: var(--disabled-fill-color);\n",
              "    box-shadow: none;\n",
              "  }\n",
              "\n",
              "  .colab-df-spinner {\n",
              "    border: 2px solid var(--fill-color);\n",
              "    border-color: transparent;\n",
              "    border-bottom-color: var(--fill-color);\n",
              "    animation:\n",
              "      spin 1s steps(1) infinite;\n",
              "  }\n",
              "\n",
              "  @keyframes spin {\n",
              "    0% {\n",
              "      border-color: transparent;\n",
              "      border-bottom-color: var(--fill-color);\n",
              "      border-left-color: var(--fill-color);\n",
              "    }\n",
              "    20% {\n",
              "      border-color: transparent;\n",
              "      border-left-color: var(--fill-color);\n",
              "      border-top-color: var(--fill-color);\n",
              "    }\n",
              "    30% {\n",
              "      border-color: transparent;\n",
              "      border-left-color: var(--fill-color);\n",
              "      border-top-color: var(--fill-color);\n",
              "      border-right-color: var(--fill-color);\n",
              "    }\n",
              "    40% {\n",
              "      border-color: transparent;\n",
              "      border-right-color: var(--fill-color);\n",
              "      border-top-color: var(--fill-color);\n",
              "    }\n",
              "    60% {\n",
              "      border-color: transparent;\n",
              "      border-right-color: var(--fill-color);\n",
              "    }\n",
              "    80% {\n",
              "      border-color: transparent;\n",
              "      border-right-color: var(--fill-color);\n",
              "      border-bottom-color: var(--fill-color);\n",
              "    }\n",
              "    90% {\n",
              "      border-color: transparent;\n",
              "      border-bottom-color: var(--fill-color);\n",
              "    }\n",
              "  }\n",
              "</style>\n",
              "\n",
              "  <script>\n",
              "    async function quickchart(key) {\n",
              "      const quickchartButtonEl =\n",
              "        document.querySelector('#' + key + ' button');\n",
              "      quickchartButtonEl.disabled = true;  // To prevent multiple clicks.\n",
              "      quickchartButtonEl.classList.add('colab-df-spinner');\n",
              "      try {\n",
              "        const charts = await google.colab.kernel.invokeFunction(\n",
              "            'suggestCharts', [key], {});\n",
              "      } catch (error) {\n",
              "        console.error('Error during call to suggestCharts:', error);\n",
              "      }\n",
              "      quickchartButtonEl.classList.remove('colab-df-spinner');\n",
              "      quickchartButtonEl.classList.add('colab-df-quickchart-complete');\n",
              "    }\n",
              "    (() => {\n",
              "      let quickchartButtonEl =\n",
              "        document.querySelector('#df-c0a6bfc7-075d-4461-9e86-d93cb4e3438f button');\n",
              "      quickchartButtonEl.style.display =\n",
              "        google.colab.kernel.accessAllowed ? 'block' : 'none';\n",
              "    })();\n",
              "  </script>\n",
              "</div>\n",
              "\n",
              "    </div>\n",
              "  </div>\n"
            ],
            "text/plain": [
              "   work_year experience_level employment_type                 job_title  \\\n",
              "0       2023               SE              FT  Principal Data Scientist   \n",
              "1       2023               MI              CT               ML Engineer   \n",
              "2       2023               MI              CT               ML Engineer   \n",
              "3       2023               SE              FT            Data Scientist   \n",
              "4       2023               SE              FT            Data Scientist   \n",
              "\n",
              "   salary salary_currency  salary_in_usd employee_residence  remote_ratio  \\\n",
              "0   80000             EUR          85847                 ES           100   \n",
              "1   30000             USD          30000                 US           100   \n",
              "2   25500             USD          25500                 US           100   \n",
              "3  175000             USD         175000                 CA           100   \n",
              "4  120000             USD         120000                 CA           100   \n",
              "\n",
              "  company_location company_size  \n",
              "0               ES            L  \n",
              "1               US            S  \n",
              "2               US            S  \n",
              "3               CA            M  \n",
              "4               CA            M  "
            ]
          },
          "execution_count": 3,
          "metadata": {},
          "output_type": "execute_result"
        }
      ],
      "source": [
        "ds_salary_df = pd.read_csv(\"ds_salaries.csv\")\n",
        "ds_salary_df.head()"
      ]
    },
    {
      "cell_type": "code",
      "execution_count": 4,
      "id": "ef1cf0d5",
      "metadata": {
        "colab": {
          "base_uri": "https://localhost:8080/"
        },
        "id": "ef1cf0d5",
        "outputId": "60d704a2-9228-4899-d2af-fe73a75e91bc"
      },
      "outputs": [
        {
          "name": "stdout",
          "output_type": "stream",
          "text": [
            "<class 'pandas.core.frame.DataFrame'>\n",
            "RangeIndex: 3755 entries, 0 to 3754\n",
            "Data columns (total 11 columns):\n",
            " #   Column              Non-Null Count  Dtype \n",
            "---  ------              --------------  ----- \n",
            " 0   work_year           3755 non-null   int64 \n",
            " 1   experience_level    3755 non-null   object\n",
            " 2   employment_type     3755 non-null   object\n",
            " 3   job_title           3755 non-null   object\n",
            " 4   salary              3755 non-null   int64 \n",
            " 5   salary_currency     3755 non-null   object\n",
            " 6   salary_in_usd       3755 non-null   int64 \n",
            " 7   employee_residence  3755 non-null   object\n",
            " 8   remote_ratio        3755 non-null   int64 \n",
            " 9   company_location    3755 non-null   object\n",
            " 10  company_size        3755 non-null   object\n",
            "dtypes: int64(4), object(7)\n",
            "memory usage: 322.8+ KB\n"
          ]
        }
      ],
      "source": [
        "ds_salary_df.info()"
      ]
    },
    {
      "cell_type": "markdown",
      "id": "ba9acc6d",
      "metadata": {
        "id": "ba9acc6d"
      },
      "source": [
        "1. All data types are correct.\n",
        "2. There are no missing values (null values) present in the dataset."
      ]
    },
    {
      "cell_type": "markdown",
      "id": "233b8089-5297-4d0e-acf5-a5c94f88f4a8",
      "metadata": {
        "id": "233b8089-5297-4d0e-acf5-a5c94f88f4a8"
      },
      "source": [
        "# Dataset Columns and Descriptions\n",
        "\n",
        "| Column Name        | Description                                                  |\n",
        "|--------------------|--------------------------------------------------------------|\n",
        "| work_year          | The year the salary was paid.                                |\n",
        "| experience_level   | The experience level in the job during the year with possible values: EN (Entry-level / Junior), MI (Mid-level / Intermediate), SE (Senior-level / Expert), EX (Executive-level / Director). |\n",
        "| employment_type    | The type of employment for the role with possible values: PT (Part-time), FT (Full-time), CT (Contract), FL (Freelance). |\n",
        "| job_title          | The role worked in during the year.                          |\n",
        "| salary             | The total gross salary amount paid. No currency attached.    |\n",
        "| salary_currency    | The currency of the salary paid as an ISO 4217 currency code.|\n",
        "| salary_in_usd      | The salary in USD, calculated using statistical data from the BIS and central banks. |\n",
        "| employee_residence | Employee's primary country of residence during the work year as an ISO 3166 country code. |\n",
        "| remote_ratio       | The overall amount of work done remotely with possible values: 0 (No remote work), 50 (Partially remote/hybrid), 100 (Fully remote). |\n",
        "| company_location   | The country of the employer's main office or contracting branch as an ISO 3166 country code. |\n",
        "| company_size       | The average number of people that worked for the company during the year with possible values: S (less than 50 employees), M (50 to 250 employees), L (more than 250 employees). |\n"
      ]
    },
    {
      "cell_type": "code",
      "execution_count": 5,
      "id": "ed187caa",
      "metadata": {
        "colab": {
          "base_uri": "https://localhost:8080/"
        },
        "id": "ed187caa",
        "outputId": "5f53a845-8bcd-42db-cde8-722e2323be26"
      },
      "outputs": [
        {
          "name": "stdout",
          "output_type": "stream",
          "text": [
            "Number of observations: 3755\n",
            "Number of variables: 11\n"
          ]
        }
      ],
      "source": [
        "observation_count, variables_count = ds_salary_df.shape\n",
        "\n",
        "print(\"Number of observations:\", observation_count)\n",
        "print(\"Number of variables:\", variables_count)"
      ]
    },
    {
      "cell_type": "markdown",
      "id": "9e661008-67cb-4c9c-9833-008deddb1a69",
      "metadata": {
        "id": "9e661008-67cb-4c9c-9833-008deddb1a69"
      },
      "source": [
        "## Dataset Cleaning"
      ]
    },
    {
      "cell_type": "code",
      "execution_count": 6,
      "id": "cfa0e74e-6501-4abf-aacd-aaa4a67f4a8a",
      "metadata": {
        "colab": {
          "base_uri": "https://localhost:8080/"
        },
        "id": "cfa0e74e-6501-4abf-aacd-aaa4a67f4a8a",
        "outputId": "210642bd-0fbe-4e93-eba9-67d00bc7cbde"
      },
      "outputs": [
        {
          "name": "stdout",
          "output_type": "stream",
          "text": [
            "Unique values in column 'work_year': [2023 2022 2020 2021]\n",
            "Unique values in column 'experience_level': ['SE' 'MI' 'EN' 'EX']\n",
            "Unique values in column 'employment_type': ['FT' 'CT' 'FL' 'PT']\n",
            "Unique values in column 'job_title': ['Principal Data Scientist' 'ML Engineer' 'Data Scientist'\n",
            " 'Applied Scientist' 'Data Analyst' 'Data Modeler' 'Research Engineer'\n",
            " 'Analytics Engineer' 'Business Intelligence Engineer'\n",
            " 'Machine Learning Engineer' 'Data Strategist' 'Data Engineer'\n",
            " 'Computer Vision Engineer' 'Data Quality Analyst'\n",
            " 'Compliance Data Analyst' 'Data Architect'\n",
            " 'Applied Machine Learning Engineer' 'AI Developer' 'Research Scientist'\n",
            " 'Data Analytics Manager' 'Business Data Analyst' 'Applied Data Scientist'\n",
            " 'Staff Data Analyst' 'ETL Engineer' 'Data DevOps Engineer' 'Head of Data'\n",
            " 'Data Science Manager' 'Data Manager' 'Machine Learning Researcher'\n",
            " 'Big Data Engineer' 'Data Specialist' 'Lead Data Analyst'\n",
            " 'BI Data Engineer' 'Director of Data Science'\n",
            " 'Machine Learning Scientist' 'MLOps Engineer' 'AI Scientist'\n",
            " 'Autonomous Vehicle Technician' 'Applied Machine Learning Scientist'\n",
            " 'Lead Data Scientist' 'Cloud Database Engineer' 'Financial Data Analyst'\n",
            " 'Data Infrastructure Engineer' 'Software Data Engineer' 'AI Programmer'\n",
            " 'Data Operations Engineer' 'BI Developer' 'Data Science Lead'\n",
            " 'Deep Learning Researcher' 'BI Analyst' 'Data Science Consultant'\n",
            " 'Data Analytics Specialist' 'Machine Learning Infrastructure Engineer'\n",
            " 'BI Data Analyst' 'Head of Data Science' 'Insight Analyst'\n",
            " 'Deep Learning Engineer' 'Machine Learning Software Engineer'\n",
            " 'Big Data Architect' 'Product Data Analyst'\n",
            " 'Computer Vision Software Engineer' 'Azure Data Engineer'\n",
            " 'Marketing Data Engineer' 'Data Analytics Lead' 'Data Lead'\n",
            " 'Data Science Engineer' 'Machine Learning Research Engineer'\n",
            " 'NLP Engineer' 'Manager Data Management' 'Machine Learning Developer'\n",
            " '3D Computer Vision Researcher' 'Principal Machine Learning Engineer'\n",
            " 'Data Analytics Engineer' 'Data Analytics Consultant'\n",
            " 'Data Management Specialist' 'Data Science Tech Lead'\n",
            " 'Data Scientist Lead' 'Cloud Data Engineer' 'Data Operations Analyst'\n",
            " 'Marketing Data Analyst' 'Power BI Developer' 'Product Data Scientist'\n",
            " 'Principal Data Architect' 'Machine Learning Manager'\n",
            " 'Lead Machine Learning Engineer' 'ETL Developer' 'Cloud Data Architect'\n",
            " 'Lead Data Engineer' 'Head of Machine Learning' 'Principal Data Analyst'\n",
            " 'Principal Data Engineer' 'Staff Data Scientist' 'Finance Data Analyst']\n",
            "Unique values in column 'salary': [   80000    30000    25500   175000   120000   222200   136000   219000\n",
            "   141000   147100    90700   130000   100000   213660   130760   170000\n",
            "   150000   110000   275000   174000   230000   143200   225000   156400\n",
            "   200000    90000    72000   253200   342810   184590   162500   105380\n",
            "    64500  1650000   204620   110680   270703   221484   212750   185000\n",
            "   262000   245000   275300   183500   218500   199098   203300   123600\n",
            "   189110   139000   258750   231500   166000   172500   110500   238000\n",
            "   176000   237000   201450   309400   159100   115000    81500   280000\n",
            "   210000   280100   168100   193500   510000    65000   300000   185900\n",
            "   129300   140000    45000    36000   105000    70000   163196   145885\n",
            "   217000   202800   104300   145000   165000   132300   179170    94300\n",
            "   152500   116450   247300   133800   203000   133000   220000    54000\n",
            "   289800   214000   179820   143860   283200   188800   214200   252000\n",
            "   129000   155000   161800   141600   342300   176100    85000   138784\n",
            "    83270    75000   204500   138900   318300   212200    95000   195000\n",
            "   160000  1700000    38000    35000   168400   105200   190000   241000\n",
            "    55000    15000    47500   250000   228000   186000   180000    50000\n",
            "   205000   215000   247500   172200   224000  1400000   128000   329500\n",
            "   269600   203500   152000   239000   122900   191765   134236   112000\n",
            "    84000   135000   105500   293000   148500   240500   123700   152900\n",
            "   117100   173000   113000   260000   184000   149500   127075   219535\n",
            "   146115   199000   162000   221000   153000   187000   179000   109000\n",
            "   142000   198800   125000    86000   106000   280700   150450   250500\n",
            "   159500   130001    71907    93918    51962   257000   147000   222000\n",
            "   133200   156000   304000   161200    84570   240000   183600   289076\n",
            "   202353   157750   104650    68000    60000   181000   154000   146000\n",
            "    64200    56100   208450   170550   171250   113750   153600   100500\n",
            "   182500   121500   203100   114500    92700    61800   258000   167500\n",
            "   106500    57000   286000   207000   223250   178600   353200   249300\n",
            "   297300   198200   151800   317070   170730    20000   108000   134000\n",
            "   124000   124500   148700   125600   120250   183000  1500000   216000\n",
            "   143865   115092   132000   208049   128500   149600   102000   106800\n",
            "   151000     7000    40000   143000    42000   111000   265000   235000\n",
            "    60400   164000    56000    83500    52500   201036   134024    62000\n",
            "    58000   172000   163800   126000   139500   109400   205600   105700\n",
            "   239748   159832   186300   102500   149040   113900   172600   107900\n",
            "   180180   106020   376080   213120   206500   121600   194500   115500\n",
            "   115934    81666   206000   138000    92000    48000    87000   299500\n",
            "   245100   115100    73900   141288    94192   210914   116704   185700\n",
            "   169000   110600   193000   136850   276000   178500   161000    83300\n",
            "   112700   128750   106250   188500   117000   104500   127000    94000\n",
            "   210550   153300   161500   119500   148750   146300   153400   122700\n",
            "   123900   340000   121700   310000   149076    82365    85500    97750\n",
            "   201000   122000   116990    82920   142200   205920   171600    78000\n",
            "   116000    36050    34320    93800    67000  1300000  1000000   104000\n",
            "   152380   121904   128280   106900   192000   170500    60027    44737\n",
            "   131899   104891   124740    65488    72200    64980   179975    86466\n",
            "   168000   167580    87980   202000   148000   269000   158000   197000\n",
            "   290000   172800   300240   200160   370000   137500   323300   184700\n",
            "   153088   183310   144000    66000   126277   126500   272000   259000\n",
            "   101400   288000   215050   198000   114000   209300   182200   227000\n",
            "    52000   226700   133300   124999   800000    63000   253750   169200\n",
            "   213580   163625    12000   375000  1350000   231250   138750   284310\n",
            "   153090   225900   385000    93919   241871   133832   192500   216100\n",
            "   140800   284000   236000   248100   145900   155850   102544   151410\n",
            "   115360  1050000    25000   107000    23000   182750   314100   195800\n",
            "   350000   262500   209450   158677   103200    61200    59000   174500\n",
            "   107250   119000   285800   154600  5000000   124234    74540    79000\n",
            "   141290    74178   107500  1060000     6000  1440000   840000  1250000\n",
            "   182000   234100   223800   172100   232200   167200   291500   196200\n",
            "   150900   167000    96100   196000   126100   187500    24000   165750\n",
            "    89700    55250   175308   100706   229000  4000000   272550    64000\n",
            "   143100   180560   115440  1125000   261500   134500  1100000    94500\n",
            "   127500    51000   248400  4460000   149000   246000    10000  2500000\n",
            "  2800000   249500   149850   122500   102640    66100   122600   159000\n",
            "   255000   166700   194000   129400    89200   178750   197430   134760\n",
            "    99000   105120    75360   171000    13000   213000   227200    61000\n",
            "   243000   178000    96000   137000   189750   140250   191200   179500\n",
            "    26000   118000   177000   131000   193750   116250   208000    45555\n",
            "  6600000   140700    33000   154560   123648   177500   192564   144854\n",
            "   179305   142127   315000   243900   156600    77300    45600   184100\n",
            "   198440    47000   187200   116100   159699   138938    76000   125404\n",
            "   123000    92250    97000   157000   345600   230400   175950   130050\n",
            "   236600    27000   400000     8000   123400    88100   139600    85700\n",
            "    98200    98000   144200  3000000   188700   160395   191475   141525\n",
            "   156868   178800   132100   229998   154545    99750    68400   236900\n",
            "   159200   243225   179775   218000   145300   195400   131300   195700\n",
            "   130500   141300   102100    83000  1800000   633000   179400   193900\n",
            "   222640   182160   297500    93000    73000    40300   136994   101570\n",
            "    97500   212800   142800   500000   130240    83376    65004    84958\n",
            "    66822    81000    46000   204100   136100     7500    77000    28500\n",
            "   119300   146200   124270   185800   137400   148800  7500000    82000\n",
            "    32400   216200   144100   175100   189650   164996    99450   188100\n",
            "   139860   248700   167100   450000   189500   140100   177600   202900\n",
            "   900000  4200000   260500    73400    49500  2400000   206699    99100\n",
            "   221300    74000   249260   185400   128875    93700   136260   109280\n",
            "   150075   110925    22800   112900    90320    62500   105400    43200\n",
            "   215300   158200   209100   165400   132320   208775   147800  6000000\n",
            "   100800   140400    82900    63900   112300   108800   242000   165220\n",
            "   120160   124190   181940   220110   160080   106260   120600    84900\n",
            "   136620    99360   161342   137141   211500   138600   192400    61300\n",
            "    95550   136600   167875   205300   200100    70500   116150    99050\n",
            "   192600   266400   150260    69000   324000   185100   104890    53000\n",
            "    88000    66500   121000    29000    69999    52800   405000   380000\n",
            "  8500000  7000000    38400    82500   700000     8760    51999    41000\n",
            "    13400   103000   270000    45760    44000  2250000    37456 11000000\n",
            "    14000  2200000   188000  2100000    51400    61500   720000    31000\n",
            "    91000  1600000   256000    72500    65720   111775    93150    21600\n",
            "  4900000  1200000    21000  1799997     9272   120500    21844    22000\n",
            "    76760  1672000   420000 30400000    32000   416000    40900  4450000\n",
            "   423000   325000    34000    69600   435000    37000    19000    18000\n",
            "    39600  1335000  1450000   190200   138350   130800   412000]\n",
            "Unique values in column 'salary_currency': ['EUR' 'USD' 'INR' 'HKD' 'CHF' 'GBP' 'AUD' 'SGD' 'CAD' 'ILS' 'BRL' 'THB'\n",
            " 'PLN' 'HUF' 'CZK' 'DKK' 'JPY' 'MXN' 'TRY' 'CLP']\n",
            "Unique values in column 'salary_in_usd': [ 85847  30000  25500 ...  28369 412000  94665]\n",
            "Unique values in column 'employee_residence': ['ES' 'US' 'CA' 'DE' 'GB' 'NG' 'IN' 'HK' 'PT' 'NL' 'CH' 'CF' 'FR' 'AU'\n",
            " 'FI' 'UA' 'IE' 'IL' 'GH' 'AT' 'CO' 'SG' 'SE' 'SI' 'MX' 'UZ' 'BR' 'TH'\n",
            " 'HR' 'PL' 'KW' 'VN' 'CY' 'AR' 'AM' 'BA' 'KE' 'GR' 'MK' 'LV' 'RO' 'PK'\n",
            " 'IT' 'MA' 'LT' 'BE' 'AS' 'IR' 'HU' 'SK' 'CN' 'CZ' 'CR' 'TR' 'CL' 'PR'\n",
            " 'DK' 'BO' 'PH' 'DO' 'EG' 'ID' 'AE' 'MY' 'JP' 'EE' 'HN' 'TN' 'RU' 'DZ'\n",
            " 'IQ' 'BG' 'JE' 'RS' 'NZ' 'MD' 'LU' 'MT']\n",
            "Unique values in column 'remote_ratio': [100   0  50]\n",
            "Unique values in column 'company_location': ['ES' 'US' 'CA' 'DE' 'GB' 'NG' 'IN' 'HK' 'NL' 'CH' 'CF' 'FR' 'FI' 'UA'\n",
            " 'IE' 'IL' 'GH' 'CO' 'SG' 'AU' 'SE' 'SI' 'MX' 'BR' 'PT' 'RU' 'TH' 'HR'\n",
            " 'VN' 'EE' 'AM' 'BA' 'KE' 'GR' 'MK' 'LV' 'RO' 'PK' 'IT' 'MA' 'PL' 'AL'\n",
            " 'AR' 'LT' 'AS' 'CR' 'IR' 'BS' 'HU' 'AT' 'SK' 'CZ' 'TR' 'PR' 'DK' 'BO'\n",
            " 'PH' 'BE' 'ID' 'EG' 'AE' 'LU' 'MY' 'HN' 'JP' 'DZ' 'IQ' 'CN' 'NZ' 'CL'\n",
            " 'MD' 'MT']\n",
            "Unique values in column 'company_size': ['L' 'S' 'M']\n"
          ]
        }
      ],
      "source": [
        "for column in ds_salary_df.columns:\n",
        "    unique_values = ds_salary_df[column].unique()\n",
        "    print(f\"Unique values in column '{column}': {unique_values}\")"
      ]
    },
    {
      "cell_type": "markdown",
      "id": "b116af62-fb15-4e88-8942-d420475f57f9",
      "metadata": {
        "id": "b116af62-fb15-4e88-8942-d420475f57f9"
      },
      "source": [
        "**Observation columns have unique values and are free from typos. But some job titles have inconsistencies, therefore it is subjected for cleaning.**"
      ]
    },
    {
      "cell_type": "code",
      "execution_count": 7,
      "id": "af120c71",
      "metadata": {
        "id": "af120c71"
      },
      "outputs": [],
      "source": [
        "# Creating new clean dataset\n",
        "ds_salary_clean = ds_salary_df"
      ]
    },
    {
      "cell_type": "markdown",
      "id": "e607ab62-f49e-4e16-965b-194e40a94737",
      "metadata": {
        "id": "e607ab62-f49e-4e16-965b-194e40a94737"
      },
      "source": [
        "### Generalization of Job Titles\n",
        "\n",
        "To reduce redundancy and standardize job titles, specific ranks such as \"Principal\" and \"Staff\" will be generalized. This is done to align with the existing categorization based on experience levels.\n",
        "\n",
        "1. **Principal Machine Learning Engineer** ➔ Machine Learning Engineer\n",
        "2. **Staff Data Analyst** ➔ Data Analyst\n",
        "3. **Staff Data Scientist** ➔ Data Scientist\n",
        "4. **Principal Data Architect** ➔ Data Architect\n",
        "5. **Principal Data Engineer** ➔ Data Engineer\n",
        "6. **Principal Data Analyst** ➔ Data Analyst\n",
        "7. **Principal Data Scientist** ➔ Data Scientist\n"
      ]
    },
    {
      "cell_type": "code",
      "execution_count": 8,
      "id": "87558037-33c2-4f6c-854d-9aa20f398920",
      "metadata": {
        "id": "87558037-33c2-4f6c-854d-9aa20f398920"
      },
      "outputs": [],
      "source": [
        "ds_salary_clean['job_title'] = ds_salary_df['job_title'].replace({\n",
        "    'Principal Machine Learning Engineer': 'Machine Learning Engineer',\n",
        "    'Staff Data Analyst': 'Data Analyst',\n",
        "    'Staff Data Scientist': 'Data Scientist',\n",
        "    'Principal Data Architect': 'Data Architect',\n",
        "    'Principal Data Engineer': 'Data Engineer',\n",
        "    'Principal Data Analyst': 'Data Analyst',\n",
        "    'Principal Data Scientist': 'Data Scientist'\n",
        "})"
      ]
    },
    {
      "cell_type": "markdown",
      "id": "641fc42b-8fff-431c-874b-68ad69693efc",
      "metadata": {
        "id": "641fc42b-8fff-431c-874b-68ad69693efc"
      },
      "source": [
        "\n",
        "### Cleaning Duplicated Job Titles\n",
        "\n",
        "The dataset contains 93 job titles. The dataset's duplicated job listings are cleaned as follows:\n",
        "\n",
        "1. **ML Engineer** ➔ Machine Learning Engineer (ML is shorthand for Machine Learning)\n",
        "2. **BI Analyst** ➔  BI Data Analyst (BI = Business Intelligence)\n",
        "3. **Machine Learning Software Engineer** ➔  Machine Learning Engineer\n",
        "4. **Lead Data Scientist** ➔ Data Science Lead   \n",
        "\n",
        "Job titles that appear similar but are not are the following:\n",
        "\n",
        "1. Data Manager and Data Science Manager\n",
        "2. BI (Business Intelligence) Data Analyst and Business Data Analyst."
      ]
    },
    {
      "cell_type": "code",
      "execution_count": 9,
      "id": "3714240f-e586-465c-9a08-5efc0742f536",
      "metadata": {
        "id": "3714240f-e586-465c-9a08-5efc0742f536"
      },
      "outputs": [],
      "source": [
        "ds_salary_clean['job_title'] = ds_salary_df['job_title'].replace({\n",
        "    'ML Engineer': 'Machine Learning Engineer',\n",
        "    'BI Analyst': 'BI Data Analyst',\n",
        "    'Machine Learning Software Engineer': 'Machine Learning Engineer',\n",
        "    'Lead Data Scientist': 'Data Science Lead'\n",
        "})"
      ]
    },
    {
      "cell_type": "markdown",
      "id": "fe8efd11-98e6-4ef7-8237-b0a21b5cf4de",
      "metadata": {
        "id": "fe8efd11-98e6-4ef7-8237-b0a21b5cf4de"
      },
      "source": [
        "### Cleaning Administrative Job Titles\n",
        "\n",
        "For easier viewing, all administrative positions (e.g., manager, lead, consultant, director) are placed at the end of the job title.\n",
        "\n",
        "1. **Director of Data Science** ➔ Data Science Director\n",
        "2. **Head of Data** ➔ Data Head\n",
        "3. **Head of Data Science** ➔ Data Science Head\n",
        "4. **Head of Machine Learning** ➔ Machine Learning Head\n",
        "5. **Lead Machine Learning Engineer** ➔ Machine Learning Engineer Lead\n",
        "6. **Lead Data Analyst** ➔ Data Analyst Lead\n",
        "7. **Lead Data Engineer** ➔ Data Engineer Lead"
      ]
    },
    {
      "cell_type": "code",
      "execution_count": 10,
      "id": "65d3bdaa-716e-4a8c-899e-536d39e78578",
      "metadata": {
        "id": "65d3bdaa-716e-4a8c-899e-536d39e78578"
      },
      "outputs": [],
      "source": [
        "ds_salary_clean['job_title'] = ds_salary_df['job_title'].replace({\n",
        "    'Director of Data Science': 'Data Science Director',\n",
        "    'Head of Data': 'Data Head',\n",
        "    'Head of Data Science': 'Data Science Head',\n",
        "    'Head of Machine Learning': 'Machine Learning Head',\n",
        "    'Lead Machine Learning Engineer': 'Machine Learning Engineer Lead',\n",
        "    'Lead Data Analyst': 'Data Analyst Lead',\n",
        "    'Lead Data Engineer': 'Data Engineer Lead'\n",
        "})"
      ]
    },
    {
      "cell_type": "markdown",
      "id": "00cf17c9",
      "metadata": {
        "id": "00cf17c9"
      },
      "source": [
        "## Dataset Preprocessing"
      ]
    },
    {
      "cell_type": "markdown",
      "id": "05cd8cf0",
      "metadata": {
        "id": "05cd8cf0"
      },
      "source": [
        "### Dropping Unnecessary Variables\n",
        "\n",
        "We have removed variables that are not required for our analysis.\n",
        "These variables include:\n",
        "\n",
        "1. **salary**\n",
        "2. **salary_currency**\n",
        "3. **employee_residence**"
      ]
    },
    {
      "cell_type": "code",
      "execution_count": 11,
      "id": "2877f962",
      "metadata": {
        "colab": {
          "base_uri": "https://localhost:8080/"
        },
        "id": "2877f962",
        "outputId": "8bc1e08a-66e8-46fe-ace5-d5b0004068ef"
      },
      "outputs": [
        {
          "name": "stdout",
          "output_type": "stream",
          "text": [
            "Columns before and after dropping 'salary' and 'salary_currency':\n",
            "+-----------------+-------------------------------------------------------------------------------------------------------------------------------------------------------------------+\n",
            "| Stage           | Columns                                                                                                                                                           |\n",
            "+=================+===================================================================================================================================================================+\n",
            "| Initial Columns | work_year, experience_level, employment_type, job_title, salary, salary_currency, salary_in_usd, employee_residence, remote_ratio, company_location, company_size |\n",
            "+-----------------+-------------------------------------------------------------------------------------------------------------------------------------------------------------------+\n",
            "| Final Columns   | work_year, experience_level, employment_type, job_title, salary_in_usd, remote_ratio, company_location, company_size                                              |\n",
            "+-----------------+-------------------------------------------------------------------------------------------------------------------------------------------------------------------+\n"
          ]
        }
      ],
      "source": [
        "initial_columns = ds_salary_clean.columns.tolist()\n",
        "\n",
        "# Drop the 'salary', 'salary_currency', and 'employee_residence' columns\n",
        "ds_salary_clean.drop(columns=['salary', 'salary_currency', 'employee_residence'], inplace=True)\n",
        "\n",
        "final_columns = ds_salary_clean.columns.tolist()\n",
        "\n",
        "print(\"Columns before and after dropping 'salary' and 'salary_currency':\")\n",
        "print(tabulate([[\"Initial Columns\", \", \".join(initial_columns)],\n",
        "                [\"Final Columns\", \", \".join(final_columns)]],\n",
        "               headers=[\"Stage\", \"Columns\"], tablefmt=\"grid\"))"
      ]
    },
    {
      "cell_type": "code",
      "execution_count": 12,
      "id": "8NTAuvsYqqWH",
      "metadata": {
        "colab": {
          "base_uri": "https://localhost:8080/"
        },
        "id": "8NTAuvsYqqWH",
        "outputId": "ee56b60c-1b3b-4258-8d34-c9739bf040ff"
      },
      "outputs": [
        {
          "name": "stdout",
          "output_type": "stream",
          "text": [
            "<class 'pandas.core.frame.DataFrame'>\n",
            "RangeIndex: 3755 entries, 0 to 3754\n",
            "Data columns (total 8 columns):\n",
            " #   Column            Non-Null Count  Dtype \n",
            "---  ------            --------------  ----- \n",
            " 0   work_year         3755 non-null   int64 \n",
            " 1   experience_level  3755 non-null   object\n",
            " 2   employment_type   3755 non-null   object\n",
            " 3   job_title         3755 non-null   object\n",
            " 4   salary_in_usd     3755 non-null   int64 \n",
            " 5   remote_ratio      3755 non-null   int64 \n",
            " 6   company_location  3755 non-null   object\n",
            " 7   company_size      3755 non-null   object\n",
            "dtypes: int64(3), object(5)\n",
            "memory usage: 234.8+ KB\n"
          ]
        }
      ],
      "source": [
        "ds_salary_clean.info()"
      ]
    },
    {
      "cell_type": "code",
      "execution_count": 13,
      "id": "AMedU0ZPq8XJ",
      "metadata": {
        "colab": {
          "base_uri": "https://localhost:8080/",
          "height": 348
        },
        "id": "AMedU0ZPq8XJ",
        "outputId": "dff49d71-8224-446f-fe04-7755bb58bc0c"
      },
      "outputs": [
        {
          "data": {
            "application/vnd.google.colaboratory.intrinsic+json": {
              "summary": "{\n  \"name\": \"ds_salary_clean\",\n  \"rows\": 3755,\n  \"fields\": [\n    {\n      \"column\": \"work_year\",\n      \"properties\": {\n        \"dtype\": \"number\",\n        \"std\": 0,\n        \"min\": 2020,\n        \"max\": 2023,\n        \"num_unique_values\": 4,\n        \"samples\": [\n          2022,\n          2021,\n          2023\n        ],\n        \"semantic_type\": \"\",\n        \"description\": \"\"\n      }\n    },\n    {\n      \"column\": \"experience_level\",\n      \"properties\": {\n        \"dtype\": \"category\",\n        \"num_unique_values\": 4,\n        \"samples\": [\n          \"MI\",\n          \"EX\",\n          \"SE\"\n        ],\n        \"semantic_type\": \"\",\n        \"description\": \"\"\n      }\n    },\n    {\n      \"column\": \"employment_type\",\n      \"properties\": {\n        \"dtype\": \"category\",\n        \"num_unique_values\": 4,\n        \"samples\": [\n          \"CT\",\n          \"PT\",\n          \"FT\"\n        ],\n        \"semantic_type\": \"\",\n        \"description\": \"\"\n      }\n    },\n    {\n      \"column\": \"job_title\",\n      \"properties\": {\n        \"dtype\": \"category\",\n        \"num_unique_values\": 82,\n        \"samples\": [\n          \"Data Science Director\",\n          \"Data Scientist\",\n          \"Data Head\"\n        ],\n        \"semantic_type\": \"\",\n        \"description\": \"\"\n      }\n    },\n    {\n      \"column\": \"salary_in_usd\",\n      \"properties\": {\n        \"dtype\": \"number\",\n        \"std\": 63055,\n        \"min\": 5132,\n        \"max\": 450000,\n        \"num_unique_values\": 1035,\n        \"samples\": [\n          205600,\n          375000,\n          140700\n        ],\n        \"semantic_type\": \"\",\n        \"description\": \"\"\n      }\n    },\n    {\n      \"column\": \"remote_ratio\",\n      \"properties\": {\n        \"dtype\": \"number\",\n        \"std\": 48,\n        \"min\": 0,\n        \"max\": 100,\n        \"num_unique_values\": 3,\n        \"samples\": [\n          100,\n          0,\n          50\n        ],\n        \"semantic_type\": \"\",\n        \"description\": \"\"\n      }\n    },\n    {\n      \"column\": \"company_location\",\n      \"properties\": {\n        \"dtype\": \"category\",\n        \"num_unique_values\": 72,\n        \"samples\": [\n          \"GB\",\n          \"MY\",\n          \"SG\"\n        ],\n        \"semantic_type\": \"\",\n        \"description\": \"\"\n      }\n    },\n    {\n      \"column\": \"company_size\",\n      \"properties\": {\n        \"dtype\": \"category\",\n        \"num_unique_values\": 3,\n        \"samples\": [\n          \"L\",\n          \"S\",\n          \"M\"\n        ],\n        \"semantic_type\": \"\",\n        \"description\": \"\"\n      }\n    }\n  ]\n}",
              "type": "dataframe",
              "variable_name": "ds_salary_clean"
            },
            "text/html": [
              "\n",
              "  <div id=\"df-4e086079-55c6-4f64-b9b3-7257aebf6ead\" class=\"colab-df-container\">\n",
              "    <div>\n",
              "<style scoped>\n",
              "    .dataframe tbody tr th:only-of-type {\n",
              "        vertical-align: middle;\n",
              "    }\n",
              "\n",
              "    .dataframe tbody tr th {\n",
              "        vertical-align: top;\n",
              "    }\n",
              "\n",
              "    .dataframe thead th {\n",
              "        text-align: right;\n",
              "    }\n",
              "</style>\n",
              "<table border=\"1\" class=\"dataframe\">\n",
              "  <thead>\n",
              "    <tr style=\"text-align: right;\">\n",
              "      <th></th>\n",
              "      <th>work_year</th>\n",
              "      <th>experience_level</th>\n",
              "      <th>employment_type</th>\n",
              "      <th>job_title</th>\n",
              "      <th>salary_in_usd</th>\n",
              "      <th>remote_ratio</th>\n",
              "      <th>company_location</th>\n",
              "      <th>company_size</th>\n",
              "    </tr>\n",
              "  </thead>\n",
              "  <tbody>\n",
              "    <tr>\n",
              "      <th>0</th>\n",
              "      <td>2023</td>\n",
              "      <td>SE</td>\n",
              "      <td>FT</td>\n",
              "      <td>Data Scientist</td>\n",
              "      <td>85847</td>\n",
              "      <td>100</td>\n",
              "      <td>ES</td>\n",
              "      <td>L</td>\n",
              "    </tr>\n",
              "    <tr>\n",
              "      <th>1</th>\n",
              "      <td>2023</td>\n",
              "      <td>MI</td>\n",
              "      <td>CT</td>\n",
              "      <td>Machine Learning Engineer</td>\n",
              "      <td>30000</td>\n",
              "      <td>100</td>\n",
              "      <td>US</td>\n",
              "      <td>S</td>\n",
              "    </tr>\n",
              "    <tr>\n",
              "      <th>2</th>\n",
              "      <td>2023</td>\n",
              "      <td>MI</td>\n",
              "      <td>CT</td>\n",
              "      <td>Machine Learning Engineer</td>\n",
              "      <td>25500</td>\n",
              "      <td>100</td>\n",
              "      <td>US</td>\n",
              "      <td>S</td>\n",
              "    </tr>\n",
              "    <tr>\n",
              "      <th>3</th>\n",
              "      <td>2023</td>\n",
              "      <td>SE</td>\n",
              "      <td>FT</td>\n",
              "      <td>Data Scientist</td>\n",
              "      <td>175000</td>\n",
              "      <td>100</td>\n",
              "      <td>CA</td>\n",
              "      <td>M</td>\n",
              "    </tr>\n",
              "    <tr>\n",
              "      <th>4</th>\n",
              "      <td>2023</td>\n",
              "      <td>SE</td>\n",
              "      <td>FT</td>\n",
              "      <td>Data Scientist</td>\n",
              "      <td>120000</td>\n",
              "      <td>100</td>\n",
              "      <td>CA</td>\n",
              "      <td>M</td>\n",
              "    </tr>\n",
              "  </tbody>\n",
              "</table>\n",
              "</div>\n",
              "    <div class=\"colab-df-buttons\">\n",
              "\n",
              "  <div class=\"colab-df-container\">\n",
              "    <button class=\"colab-df-convert\" onclick=\"convertToInteractive('df-4e086079-55c6-4f64-b9b3-7257aebf6ead')\"\n",
              "            title=\"Convert this dataframe to an interactive table.\"\n",
              "            style=\"display:none;\">\n",
              "\n",
              "  <svg xmlns=\"http://www.w3.org/2000/svg\" height=\"24px\" viewBox=\"0 -960 960 960\">\n",
              "    <path d=\"M120-120v-720h720v720H120Zm60-500h600v-160H180v160Zm220 220h160v-160H400v160Zm0 220h160v-160H400v160ZM180-400h160v-160H180v160Zm440 0h160v-160H620v160ZM180-180h160v-160H180v160Zm440 0h160v-160H620v160Z\"/>\n",
              "  </svg>\n",
              "    </button>\n",
              "\n",
              "  <style>\n",
              "    .colab-df-container {\n",
              "      display:flex;\n",
              "      gap: 12px;\n",
              "    }\n",
              "\n",
              "    .colab-df-convert {\n",
              "      background-color: #E8F0FE;\n",
              "      border: none;\n",
              "      border-radius: 50%;\n",
              "      cursor: pointer;\n",
              "      display: none;\n",
              "      fill: #1967D2;\n",
              "      height: 32px;\n",
              "      padding: 0 0 0 0;\n",
              "      width: 32px;\n",
              "    }\n",
              "\n",
              "    .colab-df-convert:hover {\n",
              "      background-color: #E2EBFA;\n",
              "      box-shadow: 0px 1px 2px rgba(60, 64, 67, 0.3), 0px 1px 3px 1px rgba(60, 64, 67, 0.15);\n",
              "      fill: #174EA6;\n",
              "    }\n",
              "\n",
              "    .colab-df-buttons div {\n",
              "      margin-bottom: 4px;\n",
              "    }\n",
              "\n",
              "    [theme=dark] .colab-df-convert {\n",
              "      background-color: #3B4455;\n",
              "      fill: #D2E3FC;\n",
              "    }\n",
              "\n",
              "    [theme=dark] .colab-df-convert:hover {\n",
              "      background-color: #434B5C;\n",
              "      box-shadow: 0px 1px 3px 1px rgba(0, 0, 0, 0.15);\n",
              "      filter: drop-shadow(0px 1px 2px rgba(0, 0, 0, 0.3));\n",
              "      fill: #FFFFFF;\n",
              "    }\n",
              "  </style>\n",
              "\n",
              "    <script>\n",
              "      const buttonEl =\n",
              "        document.querySelector('#df-4e086079-55c6-4f64-b9b3-7257aebf6ead button.colab-df-convert');\n",
              "      buttonEl.style.display =\n",
              "        google.colab.kernel.accessAllowed ? 'block' : 'none';\n",
              "\n",
              "      async function convertToInteractive(key) {\n",
              "        const element = document.querySelector('#df-4e086079-55c6-4f64-b9b3-7257aebf6ead');\n",
              "        const dataTable =\n",
              "          await google.colab.kernel.invokeFunction('convertToInteractive',\n",
              "                                                    [key], {});\n",
              "        if (!dataTable) return;\n",
              "\n",
              "        const docLinkHtml = 'Like what you see? Visit the ' +\n",
              "          '<a target=\"_blank\" href=https://colab.research.google.com/notebooks/data_table.ipynb>data table notebook</a>'\n",
              "          + ' to learn more about interactive tables.';\n",
              "        element.innerHTML = '';\n",
              "        dataTable['output_type'] = 'display_data';\n",
              "        await google.colab.output.renderOutput(dataTable, element);\n",
              "        const docLink = document.createElement('div');\n",
              "        docLink.innerHTML = docLinkHtml;\n",
              "        element.appendChild(docLink);\n",
              "      }\n",
              "    </script>\n",
              "  </div>\n",
              "\n",
              "\n",
              "<div id=\"df-2246b736-98dc-4a24-bfaf-611be3557dbf\">\n",
              "  <button class=\"colab-df-quickchart\" onclick=\"quickchart('df-2246b736-98dc-4a24-bfaf-611be3557dbf')\"\n",
              "            title=\"Suggest charts\"\n",
              "            style=\"display:none;\">\n",
              "\n",
              "<svg xmlns=\"http://www.w3.org/2000/svg\" height=\"24px\"viewBox=\"0 0 24 24\"\n",
              "     width=\"24px\">\n",
              "    <g>\n",
              "        <path d=\"M19 3H5c-1.1 0-2 .9-2 2v14c0 1.1.9 2 2 2h14c1.1 0 2-.9 2-2V5c0-1.1-.9-2-2-2zM9 17H7v-7h2v7zm4 0h-2V7h2v10zm4 0h-2v-4h2v4z\"/>\n",
              "    </g>\n",
              "</svg>\n",
              "  </button>\n",
              "\n",
              "<style>\n",
              "  .colab-df-quickchart {\n",
              "      --bg-color: #E8F0FE;\n",
              "      --fill-color: #1967D2;\n",
              "      --hover-bg-color: #E2EBFA;\n",
              "      --hover-fill-color: #174EA6;\n",
              "      --disabled-fill-color: #AAA;\n",
              "      --disabled-bg-color: #DDD;\n",
              "  }\n",
              "\n",
              "  [theme=dark] .colab-df-quickchart {\n",
              "      --bg-color: #3B4455;\n",
              "      --fill-color: #D2E3FC;\n",
              "      --hover-bg-color: #434B5C;\n",
              "      --hover-fill-color: #FFFFFF;\n",
              "      --disabled-bg-color: #3B4455;\n",
              "      --disabled-fill-color: #666;\n",
              "  }\n",
              "\n",
              "  .colab-df-quickchart {\n",
              "    background-color: var(--bg-color);\n",
              "    border: none;\n",
              "    border-radius: 50%;\n",
              "    cursor: pointer;\n",
              "    display: none;\n",
              "    fill: var(--fill-color);\n",
              "    height: 32px;\n",
              "    padding: 0;\n",
              "    width: 32px;\n",
              "  }\n",
              "\n",
              "  .colab-df-quickchart:hover {\n",
              "    background-color: var(--hover-bg-color);\n",
              "    box-shadow: 0 1px 2px rgba(60, 64, 67, 0.3), 0 1px 3px 1px rgba(60, 64, 67, 0.15);\n",
              "    fill: var(--button-hover-fill-color);\n",
              "  }\n",
              "\n",
              "  .colab-df-quickchart-complete:disabled,\n",
              "  .colab-df-quickchart-complete:disabled:hover {\n",
              "    background-color: var(--disabled-bg-color);\n",
              "    fill: var(--disabled-fill-color);\n",
              "    box-shadow: none;\n",
              "  }\n",
              "\n",
              "  .colab-df-spinner {\n",
              "    border: 2px solid var(--fill-color);\n",
              "    border-color: transparent;\n",
              "    border-bottom-color: var(--fill-color);\n",
              "    animation:\n",
              "      spin 1s steps(1) infinite;\n",
              "  }\n",
              "\n",
              "  @keyframes spin {\n",
              "    0% {\n",
              "      border-color: transparent;\n",
              "      border-bottom-color: var(--fill-color);\n",
              "      border-left-color: var(--fill-color);\n",
              "    }\n",
              "    20% {\n",
              "      border-color: transparent;\n",
              "      border-left-color: var(--fill-color);\n",
              "      border-top-color: var(--fill-color);\n",
              "    }\n",
              "    30% {\n",
              "      border-color: transparent;\n",
              "      border-left-color: var(--fill-color);\n",
              "      border-top-color: var(--fill-color);\n",
              "      border-right-color: var(--fill-color);\n",
              "    }\n",
              "    40% {\n",
              "      border-color: transparent;\n",
              "      border-right-color: var(--fill-color);\n",
              "      border-top-color: var(--fill-color);\n",
              "    }\n",
              "    60% {\n",
              "      border-color: transparent;\n",
              "      border-right-color: var(--fill-color);\n",
              "    }\n",
              "    80% {\n",
              "      border-color: transparent;\n",
              "      border-right-color: var(--fill-color);\n",
              "      border-bottom-color: var(--fill-color);\n",
              "    }\n",
              "    90% {\n",
              "      border-color: transparent;\n",
              "      border-bottom-color: var(--fill-color);\n",
              "    }\n",
              "  }\n",
              "</style>\n",
              "\n",
              "  <script>\n",
              "    async function quickchart(key) {\n",
              "      const quickchartButtonEl =\n",
              "        document.querySelector('#' + key + ' button');\n",
              "      quickchartButtonEl.disabled = true;  // To prevent multiple clicks.\n",
              "      quickchartButtonEl.classList.add('colab-df-spinner');\n",
              "      try {\n",
              "        const charts = await google.colab.kernel.invokeFunction(\n",
              "            'suggestCharts', [key], {});\n",
              "      } catch (error) {\n",
              "        console.error('Error during call to suggestCharts:', error);\n",
              "      }\n",
              "      quickchartButtonEl.classList.remove('colab-df-spinner');\n",
              "      quickchartButtonEl.classList.add('colab-df-quickchart-complete');\n",
              "    }\n",
              "    (() => {\n",
              "      let quickchartButtonEl =\n",
              "        document.querySelector('#df-2246b736-98dc-4a24-bfaf-611be3557dbf button');\n",
              "      quickchartButtonEl.style.display =\n",
              "        google.colab.kernel.accessAllowed ? 'block' : 'none';\n",
              "    })();\n",
              "  </script>\n",
              "</div>\n",
              "\n",
              "    </div>\n",
              "  </div>\n"
            ],
            "text/plain": [
              "   work_year experience_level employment_type                  job_title  \\\n",
              "0       2023               SE              FT             Data Scientist   \n",
              "1       2023               MI              CT  Machine Learning Engineer   \n",
              "2       2023               MI              CT  Machine Learning Engineer   \n",
              "3       2023               SE              FT             Data Scientist   \n",
              "4       2023               SE              FT             Data Scientist   \n",
              "\n",
              "   salary_in_usd  remote_ratio company_location company_size  \n",
              "0          85847           100               ES            L  \n",
              "1          30000           100               US            S  \n",
              "2          25500           100               US            S  \n",
              "3         175000           100               CA            M  \n",
              "4         120000           100               CA            M  "
            ]
          },
          "execution_count": 13,
          "metadata": {},
          "output_type": "execute_result"
        }
      ],
      "source": [
        "ds_salary_clean.head()"
      ]
    },
    {
      "cell_type": "markdown",
      "id": "4c128f30",
      "metadata": {
        "id": "4c128f30"
      },
      "source": [
        "## Exploratory Data Analysis"
      ]
    },
    {
      "cell_type": "markdown",
      "id": "b3c48a2b",
      "metadata": {},
      "source": [
        "### EDA Questions:\n",
        "1. What does the salary **(salary_in_usd)** distribution look like?\n",
        "2. What are the most common company locations represented in the dataset?\n",
        "3. What are the most common job titles found in the dataset?\n",
        "4. Is there a correlation between salary and experience level?\n",
        "5. How does the type of employment affect salary distribution, and which employment type exhibits the greatest salary variability?\n",
        "\n",
        "\n"
      ]
    },
    {
      "cell_type": "markdown",
      "id": "5cf4996a",
      "metadata": {
        "id": "5cf4996a"
      },
      "source": [
        "### Question 1  - What does the salary **(salary_in_usd)** distribution look like?"
      ]
    },
    {
      "cell_type": "markdown",
      "id": "81454e84",
      "metadata": {
        "id": "81454e84"
      },
      "source": [
        "**Numerical Summaries:**"
      ]
    },
    {
      "cell_type": "code",
      "execution_count": 14,
      "id": "bbacba2a",
      "metadata": {
        "colab": {
          "base_uri": "https://localhost:8080/"
        },
        "id": "bbacba2a",
        "outputId": "cfc9533c-19bc-4cf2-a3bf-20c7ff52bc33"
      },
      "outputs": [
        {
          "name": "stdout",
          "output_type": "stream",
          "text": [
            "Mean salary: $137,570.39\n",
            "Median salary: $135,000.00\n",
            "Mode salary: $100,000.00\n",
            "Salary range: $444,868.00\n",
            "Salary variance: $3,976,011,879.23\n",
            "Salary standard deviation: $63,055.63\n"
          ]
        }
      ],
      "source": [
        "# Measures of Central Tendency\n",
        "mean_salary = ds_salary_clean['salary_in_usd'].mean()\n",
        "median_salary = ds_salary_clean['salary_in_usd'].median()\n",
        "mode_salary = ds_salary_clean['salary_in_usd'].mode().values[0]  # In case of multiple modes, take the first one\n",
        "\n",
        "print(f\"Mean salary: ${mean_salary:,.2f}\")\n",
        "print(f\"Median salary: ${median_salary:,.2f}\")\n",
        "print(f\"Mode salary: ${mode_salary:,.2f}\")\n",
        "\n",
        "# Measures of Dispersion\n",
        "salary_range = ds_salary_clean['salary_in_usd'].max() - ds_salary_clean['salary_in_usd'].min()\n",
        "salary_variance = ds_salary_clean['salary_in_usd'].var()\n",
        "salary_std = ds_salary_clean['salary_in_usd'].std()\n",
        "\n",
        "print(f\"Salary range: ${salary_range:,.2f}\")\n",
        "print(f\"Salary variance: ${salary_variance:,.2f}\")\n",
        "print(f\"Salary standard deviation: ${salary_std:,.2f}\")\n",
        "\n",
        "# Compute correlation matrix for selected numeric columns\n",
        "numeric_columns = ['salary_in_usd']\n",
        "numeric_df = ds_salary_clean[numeric_columns]\n",
        "\n"
      ]
    },
    {
      "cell_type": "markdown",
      "id": "f1e0bab3",
      "metadata": {
        "id": "f1e0bab3"
      },
      "source": [
        "**Central Tendency:** The mean salary of $137,570.39, median salary of $135,000.00, and mode salary of $100,000.00 indicate that salaries cluster around these values, highlighting typical salary levels in the dataset.\n",
        "\n",
        "**Dispersion:** A wide salary range of $444,868.00, large variance of $3,976,011,879.23, and standard deviation of $63,055.63 illustrate significant variability in salary levels, reflecting diverse income ranges within the dataset.\n"
      ]
    },
    {
      "cell_type": "markdown",
      "id": "dfe25296",
      "metadata": {
        "id": "dfe25296"
      },
      "source": [
        "**Visualization:**"
      ]
    },
    {
      "cell_type": "code",
      "execution_count": 15,
      "id": "dc0f86d7",
      "metadata": {
        "colab": {
          "base_uri": "https://localhost:8080/",
          "height": 589
        },
        "id": "dc0f86d7",
        "outputId": "81de31f9-4121-442c-e153-0333dc404f69"
      },
      "outputs": [
        {
          "data": {
            "image/png": "[encoded data removed]",
            "text/plain": [
              "<Figure size 1000x600 with 1 Axes>"
            ]
          },
          "metadata": {},
          "output_type": "display_data"
        },
        {
          "name": "stdout",
          "output_type": "stream",
          "text": [
            "The skewness of the salary distribution is: 0.54\n"
          ]
        }
      ],
      "source": [
        "plt.figure(figsize=(10, 6))\n",
        "sns.histplot(ds_salary_clean['salary_in_usd'], bins=30, kde=True, color='skyblue', edgecolor='black')\n",
        "\n",
        "plt.title('Distribution of Salaries in USD', fontsize=16)\n",
        "plt.xlabel('Salary in USD', fontsize=14)\n",
        "plt.ylabel('Frequency', fontsize=14)\n",
        "\n",
        "plt.show()\n",
        "\n",
        "# Skewness of salary_in_usd\n",
        "salary_data = ds_salary_clean['salary_in_usd']\n",
        "salary_skewness = skew(salary_data)\n",
        "\n",
        "print(f\"The skewness of the salary distribution is: {salary_skewness:.2f}\")\n"
      ]
    },
    {
      "cell_type": "markdown",
      "id": "96c0cdd8",
      "metadata": {
        "id": "96c0cdd8"
      },
      "source": [
        "The skewness of the salary distribution is 0.54, indicating a **moderately positively skewed distribution**.  Because of this skewness, some higher salaries have pulled the mean to the right, making the mean salary slightly higher than the median. For most data points, the median provides a better indication of the central tendency than the mode, which is likely lower. This indicates that while there are enough higher wages to produce a moderate positive skew, the majority of pay data points appear to be clustered around a central value."
      ]
    },
    {
      "cell_type": "markdown",
      "id": "8386944b",
      "metadata": {
        "id": "8386944b"
      },
      "source": [
        "### Question 2  - What are the most common company locations represented in the dataset?\n"
      ]
    },
    {
      "cell_type": "markdown",
      "id": "f86afb95",
      "metadata": {
        "id": "f86afb95"
      },
      "source": [
        "**Numerical Summaries:**"
      ]
    },
    {
      "cell_type": "code",
      "execution_count": 16,
      "id": "3f1b211e",
      "metadata": {
        "colab": {
          "base_uri": "https://localhost:8080/"
        },
        "id": "3f1b211e",
        "outputId": "58549ff6-6280-4914-f146-863133825cac"
      },
      "outputs": [
        {
          "name": "stdout",
          "output_type": "stream",
          "text": [
            "Most common company location: US\n",
            "Count of the most common location: 3040\n",
            "Number of unique company locations: 72\n",
            "\n",
            "Company Location Counts:\n",
            "company_location\n",
            "US    3040\n",
            "GB     172\n",
            "CA      87\n",
            "ES      77\n",
            "IN      58\n",
            "      ... \n",
            "MK       1\n",
            "BS       1\n",
            "IR       1\n",
            "CR       1\n",
            "MT       1\n",
            "Name: count, Length: 72, dtype: int64\n",
            "\n",
            "Company Location Percentages:\n",
            "company_location\n",
            "US    80.958722\n",
            "GB     4.580559\n",
            "CA     2.316911\n",
            "ES     2.050599\n",
            "IN     1.544607\n",
            "        ...    \n",
            "MK     0.026631\n",
            "BS     0.026631\n",
            "IR     0.026631\n",
            "CR     0.026631\n",
            "MT     0.026631\n",
            "Name: proportion, Length: 72, dtype: float64\n"
          ]
        }
      ],
      "source": [
        "most_common_location = ds_salary_clean['company_location'].mode()[0]\n",
        "count_most_common_location = ds_salary_clean['company_location'].value_counts().max()\n",
        "\n",
        "print(\"Most common company location:\", most_common_location)\n",
        "print(\"Count of the most common location:\", count_most_common_location)\n",
        "\n",
        "num_unique_locations = len(ds_salary_clean['company_location'].unique())\n",
        "print(\"Number of unique company locations:\", num_unique_locations)\n",
        "\n",
        "company_location_counts = ds_salary_clean['company_location'].value_counts()\n",
        "company_location_percentages = ds_salary_clean['company_location'].value_counts(normalize=True) * 100\n",
        "\n",
        "print(\"\\nCompany Location Counts:\")\n",
        "print(company_location_counts)\n",
        "print(\"\\nCompany Location Percentages:\")\n",
        "print(company_location_percentages)"
      ]
    },
    {
      "cell_type": "markdown",
      "id": "12bbbcc6",
      "metadata": {
        "id": "12bbbcc6"
      },
      "source": [
        "**Visualization:**"
      ]
    },
    {
      "cell_type": "code",
      "execution_count": 17,
      "id": "cfee7745",
      "metadata": {
        "colab": {
          "base_uri": "https://localhost:8080/",
          "height": 984
        },
        "id": "cfee7745",
        "outputId": "f22255b1-3a6a-438b-b559-976d87caff34"
      },
      "outputs": [
        {
          "data": {
            "image/png": "[encoded data removed]",
            "text/plain": [
              "<Figure size 1400x1300 with 1 Axes>"
            ]
          },
          "metadata": {},
          "output_type": "display_data"
        }
      ],
      "source": [
        "plt.figure(figsize=(14, 13))\n",
        "sns.countplot(y='company_location', data=ds_salary_clean, order=ds_salary_clean['company_location'].value_counts().index)\n",
        "plt.title('Distribution of Company Locations', fontsize=16)\n",
        "plt.xlabel('Count', fontsize=14)\n",
        "plt.ylabel('Company Location', fontsize=14)\n",
        "plt.show()"
      ]
    },
    {
      "cell_type": "markdown",
      "id": "493faaa5",
      "metadata": {
        "id": "493faaa5"
      },
      "source": [
        "The analysis of the **company_location** variable indicates a **bias** towards  the United States market, which hosts the majority of companies in the dataset (3040 out of 3755 observations, or approximately 80.96%). This bias suggests that the dataset may not fully represent global diversity in company locations and could skew insights towards regions with higher data availability or participation."
      ]
    },
    {
      "cell_type": "markdown",
      "id": "6e774b6d",
      "metadata": {
        "id": "6e774b6d"
      },
      "source": [
        "### Question 3 - What are the most common job titles found in the dataset?"
      ]
    },
    {
      "cell_type": "markdown",
      "id": "4c60d2c6",
      "metadata": {
        "id": "4c60d2c6"
      },
      "source": [
        "**Numerical Summaries:**"
      ]
    },
    {
      "cell_type": "code",
      "execution_count": 35,
      "id": "XYjscBV9ahxK",
      "metadata": {
        "colab": {
          "base_uri": "https://localhost:8080/"
        },
        "id": "XYjscBV9ahxK",
        "outputId": "f00de622-937f-407c-8be9-9e5fa34c8063"
      },
      "outputs": [
        {
          "name": "stdout",
          "output_type": "stream",
          "text": [
            "Most common job title: Data Engineer\n",
            "Count of the most common job title: 1042\n",
            "Number of unique job titles: 82\n",
            "\n",
            "Job Title Counts:\n",
            "job_title\n",
            "Data Engineer                 1042\n",
            "Data Scientist                 849\n",
            "Data Analyst                   615\n",
            "Machine Learning Engineer      334\n",
            "Analytics Engineer             103\n",
            "                              ... \n",
            "Data Management Specialist       1\n",
            "Deep Learning Researcher         1\n",
            "Manager Data Management          1\n",
            "Azure Data Engineer              1\n",
            "Finance Data Analyst             1\n",
            "Name: count, Length: 82, dtype: int64\n",
            "\n",
            "Job Title Percentages:\n",
            "job_title\n",
            "Data Engineer                 27.749667\n",
            "Data Scientist                22.609854\n",
            "Data Analyst                  16.378162\n",
            "Machine Learning Engineer      8.894807\n",
            "Analytics Engineer             2.743009\n",
            "                                ...    \n",
            "Data Management Specialist     0.026631\n",
            "Deep Learning Researcher       0.026631\n",
            "Manager Data Management        0.026631\n",
            "Azure Data Engineer            0.026631\n",
            "Finance Data Analyst           0.026631\n",
            "Name: proportion, Length: 82, dtype: float64\n"
          ]
        }
      ],
      "source": [
        "most_common_title = ds_salary_clean['job_title'].mode()[0]\n",
        "count_most_common_title = ds_salary_clean['job_title'].value_counts().max()\n",
        "\n",
        "print(\"Most common job title:\", most_common_title)\n",
        "print(\"Count of the most common job title:\", count_most_common_title)\n",
        "\n",
        "num_unique_titles = len(ds_salary_clean['job_title'].unique())\n",
        "print(\"Number of unique job titles:\", num_unique_titles)\n",
        "\n",
        "job_title_counts = ds_salary_clean['job_title'].value_counts()\n",
        "job_title_percentages = ds_salary_clean['job_title'].value_counts(normalize=True) * 100\n",
        "\n",
        "print(\"\\nJob Title Counts:\")\n",
        "print(job_title_counts)\n",
        "print(\"\\nJob Title Percentages:\")\n",
        "print(job_title_percentages)"
      ]
    },
    {
      "cell_type": "markdown",
      "id": "aa21f41a",
      "metadata": {
        "id": "aa21f41a"
      },
      "source": [
        "**Visualization:**"
      ]
    },
    {
      "cell_type": "code",
      "execution_count": 36,
      "id": "9BTsrW5PrTiA",
      "metadata": {
        "colab": {
          "base_uri": "https://localhost:8080/",
          "height": 659
        },
        "id": "9BTsrW5PrTiA",
        "outputId": "50114644-65ee-488b-c6f9-871d798a8d26"
      },
      "outputs": [
        {
          "data": {
            "text/plain": [
              "Text(0.5, 1.0, 'Top 20 Job Titles')"
            ]
          },
          "execution_count": 36,
          "metadata": {},
          "output_type": "execute_result"
        },
        {
          "data": {
            "image/png": "[encoded data removed]",
            "text/plain": [
              "<Figure size 600x700 with 1 Axes>"
            ]
          },
          "metadata": {},
          "output_type": "display_data"
        }
      ],
      "source": [
        "top20_job_title_count_df = job_title_counts.head(20)\n",
        "top20_job_title_count_df.plot.barh(figsize=(6,7)).invert_yaxis()\n",
        "plt.xlabel('Job Title')\n",
        "plt.ylabel('Count')\n",
        "plt.title('Top 20 Job Titles')"
      ]
    },
    {
      "cell_type": "markdown",
      "id": "25MglRWMZfuR",
      "metadata": {
        "id": "25MglRWMZfuR"
      },
      "source": [
        "Analysis on the job_title variable shows that the three job titles with the most observations are Data Engineer, Data Scientist, and Data Analyst respectively. Visualizations are also limited to show only the top 20 job titles present due to the large number of unique job titles (82 unique job titles). Due to numerous job titles being underrepresented, the dataset may not properly show the full spectrum of roles within the Data Science field."
      ]
    },
    {
      "cell_type": "markdown",
      "id": "b40276d6",
      "metadata": {
        "id": "b40276d6"
      },
      "source": [
        "### Question 4  - Is there a correlation between salary and experience level?"
      ]
    },
    {
      "cell_type": "markdown",
      "id": "347953a6",
      "metadata": {
        "id": "347953a6"
      },
      "source": [
        "**Numerical Summaries:**"
      ]
    },
    {
      "cell_type": "code",
      "execution_count": 21,
      "id": "b382c6ab",
      "metadata": {
        "colab": {
          "base_uri": "https://localhost:8080/"
        },
        "id": "b382c6ab",
        "outputId": "2a1818d0-1fd1-483b-f430-177a5ea67440"
      },
      "outputs": [
        {
          "name": "stdout",
          "output_type": "stream",
          "text": [
            "                           mean    median           std    min     max\n",
            "experience_level                                                      \n",
            "EN                 78546.284375   70000.0  52225.424309   5409  300000\n",
            "EX                194930.929825  196000.0  70661.929661  15000  416000\n",
            "MI                104525.939130  100000.0  54387.685128   5132  450000\n",
            "SE                153051.071542  146000.0  56896.263954   8000  423834\n"
          ]
        }
      ],
      "source": [
        "# Group data by 'experience_level' and calculate summary statistics\n",
        "summary_stats = ds_salary_clean.groupby('experience_level')['salary_in_usd'].agg(['mean', 'median', 'std', 'min', 'max'])\n",
        "print(summary_stats)"
      ]
    },
    {
      "cell_type": "markdown",
      "id": "5e487519",
      "metadata": {
        "id": "5e487519"
      },
      "source": [
        "* **EN (Entry-level / Junior):**\n",
        "    * Mean: $78,546.28\n",
        "    * Median: $70,000.00\n",
        "    * Std: $52,225.42\n",
        "    * Min: $5,409\n",
        "    * Max: $300,000\n",
        "* **EX (Executive-level / Director):**\n",
        "    * Mean: $194,930.93\n",
        "    * Median: $196,000.00\n",
        "    * Std: $70,661.93\n",
        "    * Min: $15,000\n",
        "    * Max: $416,000\n",
        "* **MI (Mid-level / Intermediate):**\n",
        "    * Mean: $104,525.94\n",
        "    * Median: $100,000.00\n",
        "    * Std: $54,387.69\n",
        "    * Min: $5,132\n",
        "    * Max: $450,000\n",
        "* **SE (Senior-level / Expert):**\n",
        "    * Mean: $153,051.07\n",
        "    * Median: $146,000.00\n",
        "    * Std: $56,896.26\n",
        "    * Min: $8,000\n",
        "    * Max: $423,834"
      ]
    },
    {
      "cell_type": "markdown",
      "id": "7c91f8e4",
      "metadata": {
        "id": "7c91f8e4"
      },
      "source": [
        "**Visualization:**"
      ]
    },
    {
      "cell_type": "code",
      "execution_count": 22,
      "id": "e4577a9c",
      "metadata": {
        "colab": {
          "base_uri": "https://localhost:8080/",
          "height": 564
        },
        "id": "e4577a9c",
        "outputId": "bafb1fef-e53e-4add-96dc-0b9531b333cb"
      },
      "outputs": [
        {
          "data": {
            "image/png": "[encoded data removed]",
            "text/plain": [
              "<Figure size 1000x600 with 1 Axes>"
            ]
          },
          "metadata": {},
          "output_type": "display_data"
        }
      ],
      "source": [
        "# Salary vs. Experience Level\n",
        "plt.figure(figsize=(10,6))\n",
        "sns.boxplot(\n",
        "    x = \"experience_level\",\n",
        "    y = \"salary_in_usd\",\n",
        "    showmeans=True,\n",
        "    data=ds_salary_clean\n",
        ")\n",
        "plt.xlabel('Experience Level')\n",
        "plt.ylabel('Salary (USD)')\n",
        "plt.title('Salary by Experience Level')\n",
        "plt.show()"
      ]
    },
    {
      "cell_type": "markdown",
      "id": "3ee56df2",
      "metadata": {
        "id": "3ee56df2"
      },
      "source": [
        "Based on the trend observed from the box plot suggests that as the **experience level** increases, so does the the **salary** and the range of potential salaries. Implicating that there is a positive correlation between the two variables."
      ]
    },
    {
      "cell_type": "markdown",
      "id": "24304fdf",
      "metadata": {
        "id": "24304fdf"
      },
      "source": [
        "### Question 5 - How does the type of employment affect salary distribution, and which employment type exhibits the greatest salary variability?"
      ]
    },
    {
      "cell_type": "markdown",
      "id": "13d74a65",
      "metadata": {
        "id": "13d74a65"
      },
      "source": [
        "**Numerical Summaries:**"
      ]
    },
    {
      "cell_type": "code",
      "execution_count": 23,
      "id": "ee8e561e",
      "metadata": {
        "colab": {
          "base_uri": "https://localhost:8080/"
        },
        "id": "ee8e561e",
        "outputId": "8b0b6969-3b8b-483f-a73c-42a7cb7e079b"
      },
      "outputs": [
        {
          "name": "stdout",
          "output_type": "stream",
          "text": [
            "                          mean    median            std    min     max\n",
            "employment_type                                                       \n",
            "CT               113446.900000   75000.0  130176.746842   7500  416000\n",
            "FL                51807.800000   50000.0   29458.879336  12000  100000\n",
            "FT               138314.199570  135000.0   62452.177613   5132  450000\n",
            "PT                39533.705882   21669.0   38312.145181   5409  125404\n"
          ]
        }
      ],
      "source": [
        "# Group data by 'employment_type' and calculate summary statistics\n",
        "summary_stats = ds_salary_clean.groupby('employment_type')['salary_in_usd'].agg(['mean', 'median', 'std', 'min', 'max'])\n",
        "print(summary_stats)"
      ]
    },
    {
      "cell_type": "markdown",
      "id": "52485f67",
      "metadata": {
        "id": "52485f67"
      },
      "source": [
        "**Visualization:**"
      ]
    },
    {
      "cell_type": "code",
      "execution_count": 24,
      "id": "d0b756c0",
      "metadata": {
        "colab": {
          "base_uri": "https://localhost:8080/",
          "height": 564
        },
        "id": "d0b756c0",
        "outputId": "d594f3c0-630d-4be8-c9b1-54566c235a1d"
      },
      "outputs": [
        {
          "data": {
            "image/png": "[encoded data removed]",
            "text/plain": [
              "<Figure size 1000x600 with 1 Axes>"
            ]
          },
          "metadata": {},
          "output_type": "display_data"
        }
      ],
      "source": [
        "# Box Plot for salary and employment type\n",
        "plt.figure(figsize=(10, 6))\n",
        "sns.boxplot(data=ds_salary_clean, x='employment_type', y='salary_in_usd')\n",
        "\n",
        "plt.title('Salary by Employment Type')\n",
        "plt.xlabel('Employment Type')\n",
        "plt.ylabel('Salary in USD')\n",
        "plt.show()"
      ]
    },
    {
      "cell_type": "markdown",
      "id": "2ef79815",
      "metadata": {
        "id": "2ef79815"
      },
      "source": [
        "This box plot analysis aims to compare the **salary** ranges from different **employment types**, suggesting that there is a difference in financial growth potential for each category.\n",
        "\n",
        "* **Contract (CT):** Shows a high mean salary but also a large standard deviation, indicating a wide range of salaries. The maximum salary is substantial, suggesting good growth potential for high-skilled positions.\n",
        "\n",
        "* **Consulting (CL):** Has a lower mean salary compared to CT, with less variability. The growth potential may be moderate, with salaries mostly clustered around the median.\n",
        "\n",
        "* **Freelance (FL):** Exhibits the highest mean salary and maximum salary, indicating excellent growth potential, especially for top performers in their field.\n",
        "\n",
        "* **Part-Time (PT):** Has the lowest mean and maximum salaries, reflecting limited growth potential, likely due to fewer hours worked."
      ]
    },
    {
      "cell_type": "markdown",
      "id": "cfa03c42",
      "metadata": {
        "id": "cfa03c42"
      },
      "source": [
        "## Research Question"
      ]
    },
    {
      "cell_type": "markdown",
      "id": "f45ab814",
      "metadata": {
        "id": "f45ab814"
      },
      "source": [
        "An in-depth exploratory data analysis (EDA) enabled us to better comprehend and visualize our dataset. We began by evaluating a detailed dataset of employment categories, experience levels, job titles, work, company location, and salaries . By carefully researching and visualizing the data, we discovered trends in how salaries fluctuate across different categories. This helped us comprehend the complex structures of salary distribution.\n",
        "\n",
        "Our exploratory data analysis has led us to a key research question:  \n",
        "**How do salary distributions vary across different employment types (fulltime, part-time, contract, and consulting) for various experience levels and job titles in the United States?**\n",
        "\n",
        "Understanding salary variations by investigating how salary distributions fluctuate across different employment types, experience levels, and job titles, this study can give insights on the factors driving salary in the data industry. It can help discover patterns and inequalities in wage structures, allowing businesses and employees to make more informed decisions about salary negotiations, career advancement, and talent retention. Furthermore, this research subject is timely in today's technological age, as data-driven decision-making is becoming increasingly important to corporate operations. As the demand for qualified data professionals grows, knowing the nuanced nature of wage distributions becomes critical for businesses looking to recruit and retain the best employees. Similarly, findings from this research might help workers navigate their careers in the data business by informing strategic decisions about career routes and compensation expectations, ultimately leading to a more equal and competitive employment market."
      ]
    }
  ],
  "metadata": {
    "colab": {
      "provenance": []
    },
    "kernelspec": {
      "display_name": "Python 3 (ipykernel)",
      "language": "python",
      "name": "python3"
    },
    "language_info": {
      "codemirror_mode": {
        "name": "ipython",
        "version": 3
      },
      "file_extension": ".py",
      "mimetype": "text/x-python",
      "name": "python",
      "nbconvert_exporter": "python",
      "pygments_lexer": "ipython3",
      "version": "3.12.0"
    }
  },
  "nbformat": 4,
  "nbformat_minor": 5
}
